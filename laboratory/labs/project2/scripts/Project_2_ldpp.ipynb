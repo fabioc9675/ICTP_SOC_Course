{
 "cells": [
  {
   "cell_type": "markdown",
   "metadata": {},
   "source": [
    "# Project 2, part 1 - SoC-FPGA Digital Pulse Processing system and TCL\n",
    "This Jupyter Notebook (JN) is the continuation of the Lab guide that will take you through the necessary steps to interact with the ZedBoard development board via Ethernet using the UDMA framework. All the provided source code is written in Python 3.\n",
    "\n",
    "In this Lab exercise you will not only interact with the design in the Zynq SoC, but also with the external DAC and ADC boards plugged into the ZedBoard PMOD connectors. To do so, we have prepared an environment based on Python 3.8 and the required libraries to execute the workflow described next:\n",
    " \n",
    "1) **Python + UDMA <---> Zynq SoC**\n",
    "  - Send from this JN to the ComBlock's FIFO a\n",
    "  - Use the UDMA library to write individual ComBlock output registers to setup the ADC and DAC driver values\n",
    "  - Use the UDMA library to read the contents of the data stored in the ComBlock's FIFO\n",
    "3) **Python**\n",
    "  - Assess the contents of the data read from the ComBlock's FIFO with the expected behavior of the FIR filter within the programmable logic design in the SoC\n",
    "\n",
    "All the required steps are documented in this JN, so you can easily follow them along with the code you execute in the notebook blocks.\n",
    "\n",
    "- Author(s): Bruno Valinoti (MLab/ICTP) - 2023/10/31 (version 1.0)\n",
    "- Update(s):"
   ]
  },
  {
   "cell_type": "markdown",
   "metadata": {},
   "source": [
    "# 1) Generate the project with a TCl\n",
    "Before starting with this JN, be sure you configured the FPGA and programmed the PS with the Light DPP project. "
   ]
  },
  {
   "cell_type": "markdown",
   "metadata": {},
   "source": [
    "---"
   ]
  },
  {
   "cell_type": "markdown",
   "metadata": {},
   "source": [
    "# 2) Interfacing with hardware via UDMA\n",
    "In this section you will make use of the synthesized waveforms from the last section to periodically execute the following loop:\n",
    "\n",
    "- Transmit a synthesized waveform to the ComBlock's RAM using the UDMA.\n",
    "- The hardware design in the PL of the SoC will continuously send these samples to the DAC (plugged into the ZedBoard's PMOD connector), so they get translated to the analog domain.\n",
    "- This analog signal will be continuously sampled by the ADC (also plugged into the ZedBoard PMOD connector).\n",
    "- The sampled values from the ADC stream will feed the input of the finite impulse response (FIR) filter that was generated with High-Level Synthesis (HLS).\n",
    "- The output of the FIR filter will be stored in the ComBlock's input FIFO.\n",
    "- The data stored in the FIFO will be sent from the SoC to this computer using UDMA."
   ]
  },
  {
   "cell_type": "markdown",
   "metadata": {},
   "source": [
    "## Setting up UDMA and ZedBoard parameters"
   ]
  },
  {
   "cell_type": "markdown",
   "metadata": {},
   "source": [
    "Import libraries"
   ]
  },
  {
   "cell_type": "code",
   "execution_count": null,
   "metadata": {},
   "outputs": [],
   "source": [
    "# Setting up plot rendering handler for Jupyter Notebook\n",
    "%matplotlib widget\n",
    "\n",
    "# == MLab libraries ==\n",
    "import udma #MLab UDMA library\n",
    "\n",
    "import numpy as np\n",
    "import matplotlib\n",
    "import matplotlib.pyplot as plt\n",
    "import time"
   ]
  },
  {
   "cell_type": "markdown",
   "metadata": {},
   "source": [
    "IP Address and port of your ZedBoard development board"
   ]
  },
  {
   "cell_type": "code",
   "execution_count": null,
   "metadata": {},
   "outputs": [],
   "source": [
    "IP_ADDRESS = '192.168.1.10' # Set your ZedBoard IP Address here\n",
    "IP_PORT = 7"
   ]
  },
  {
   "cell_type": "markdown",
   "metadata": {},
   "source": [
    "Initializing UDMA class instance with provided IP settings"
   ]
  },
  {
   "cell_type": "code",
   "execution_count": null,
   "metadata": {},
   "outputs": [],
   "source": [
    "zedBoard = udma.UDMA_CLASS(IP_ADDRESS, IP_PORT)"
   ]
  },
  {
   "cell_type": "markdown",
   "metadata": {},
   "source": [
    "### Connecting to ZedBoard"
   ]
  },
  {
   "cell_type": "markdown",
   "metadata": {},
   "source": [
    "Tries indefinitely until connection is successful"
   ]
  },
  {
   "cell_type": "code",
   "execution_count": null,
   "metadata": {},
   "outputs": [],
   "source": [
    "connectionStatus = 0\n",
    "while(connectionStatus == 0):\n",
    "    connectionStatus = zedBoard.connect()\n",
    "    time.sleep(1)"
   ]
  },
  {
   "cell_type": "code",
   "execution_count": null,
   "metadata": {},
   "outputs": [],
   "source": [
    "# Disable unused logging to speed up data transactions\n",
    "_ = zedBoard.log(0)"
   ]
  },
  {
   "cell_type": "markdown",
   "metadata": {},
   "source": [
    "# Interacting with ZedBoard via UDMA"
   ]
  },
  {
   "cell_type": "markdown",
   "metadata": {},
   "source": [
    "## Send the square pulse signal and process the data using the DPP for amplitude extraction\n",
    "Dataflow (in SoC PL) to process the data:\n",
    "- Disable DPP operation\n",
    "- Setup the detection threshold level\n",
    "- Setup the operation mode \n",
    "- Clear FIFOs\n",
    "- Send data to the FIFO output of the ComBlock\n",
    "- Enable DPP operation\n",
    "- Processed data captured in Comblock's input FIFO\n",
    "- Data from ComBlock's FIFO are fetched via UDMA to this Jupyter Notebook\n",
    "- Verify the pulses amplitude according to the threshold level slected up before"
   ]
  },
  {
   "cell_type": "code",
   "execution_count": null,
   "metadata": {},
   "outputs": [],
   "source": [
    "# Function definition: used to clear out FIFO contents prior to write or read any value\n",
    "FIFO_CLEAR_REG = 1\n",
    "def clearFifos(udmaInstance):\n",
    "    udmaInstance.write_reg(FIFO_CLEAR_REG, 1)\n",
    "    udmaInstance.write_reg(FIFO_CLEAR_REG, 0)"
   ]
  },
  {
   "cell_type": "markdown",
   "metadata": {},
   "source": [
    "### Writo into Comblock's FIFO using UDMA and process the pulses "
   ]
  },
  {
   "cell_type": "markdown",
   "metadata": {},
   "source": [
    "Here you will send a series of pulses to the DPP using the Comblock's input FIFO, enable the operation and fetch the data processed by a light dpp output using the Comblock output FIFO. \n",
    "Execute this block as many times as you want (```Ctrl+Enter```) to observe the results in the time domain."
   ]
  },
  {
   "cell_type": "code",
   "execution_count": null,
   "metadata": {},
   "outputs": [],
   "source": [
    "ENA_OPERATION_REG  = 0\n",
    "FIFO_CLEAR_REG     = 1\n",
    "THRESHOLD_HIGH_REG = 2\n",
    "OP_MODE_REG        = 3\n",
    "\n",
    "\n",
    "pulse = np.array([0, 0, 0, 0, 0, 0, 0, 0, 0, 0, 0, 0, 0, 0, 0, 0, 0, 68, 68, 68, 68, 0, 0, 0, 0, 0, 0, 0, 0, 0, 0, 0, 0,\n",
    "                  0, 0, 0, 0, 0, 0, 0, 0, 0, 0, 0, 0, 0, 0, 0, 0, 350, 350, 350, 350, 350, 0, 0, 0, 0, 0, 0, 0, 0, 0,\n",
    "                  0, 0, 0, 0, 0, 0, 0, 0, 0, 0, 0, 0, 0, 0, 0, 0, 0, 0, 0, 0, 0, 0, 0, 0, 0, 0, 0, 0, 0, 0, 0,\n",
    "                  0, 0, 0, 0, 0, 0, 0, 0, 0, 0, 0, 0, 0, 0, 653, 653, 653, 653, 653, 653, 653, 653, 653, 653, 653, 653, 653, 653, 0, 0, 0, 0,\n",
    "                  0, 0, 0, 0, 0, 0, 0, 0, 0, 0, 0, 0, 0, 0, 0, 0, 0, 0, 0, 0, 0, 0, 0, 0, 0, 0, 0, 0, 0, 0, 0,\n",
    "                  0, 0, 0, 0, 0, 0, 0, 0, 264, 264, 264, 264, 264, 264, 264, 264, 264, 264, 264, 264, 264, 0, 0, 0, 0, 0, 0, 0, 0, 0, 0, 0,\n",
    "                  0, 0, 0, 0, 0, 0, 0, 0, 0, 0, 0, 0, 0, 0, 0, 94, 94, 94, 94, 94, 94, 94, 0, 0, 0, 0, 0, 0, 0, 0, 0, 0,\n",
    "                  0, 0, 0, 0, 0, 0, 0, 0, 0, 0, 0, 0, 0, 0, 0, 0, 0, 0, 0, 0, 0, 0, 0, 0, 0, 0, 0, 0, 0, 0, 0,\n",
    "                  0, 0, 0, 0, 0, 0, 0, 0, 0, 0, 0, 0, 0, 0, 0, 0, 0, 0, 1038, 1038, 1038, 1038, 1038, 1038,\n",
    "                  1038, 1038, 1038, 1038, 1038, 1038, 1038, 1038, 0, 0, 0, 0, 0, 0, 0, 0, 0, 0, 0, 0, 0, 0, 0, 0,\n",
    "                  0, 0, 0, 0, 0, 0, 0, 28, 28, 28, 28, 28, 28, 28, 0, 0, 0, 0, 0, 0, 0, 0, 0, 0, 0, 0, 0, 0, 0, 0, 0,\n",
    "                  0, 0, 0, 0, 0, 0, 0, 0, 0, 0, 0, 0, 0, 0])\n",
    "\n",
    "# Clear input FIFO contents to get the latest data from the FIR filter output\n",
    "zedBoard.write_reg(ENA_OPERATION_REG, 0x00) # Disable DPP operation\n",
    "\n",
    "# Set threshold value\n",
    "zedBoard.write_reg(THRESHOLD_HIGH_REG, 200)\n",
    "\n",
    "# Set operation mode\n",
    "zedBoard.write_reg(OP_MODE_REG, 0x00)\n",
    "\n",
    "clearFifos(zedBoard)\n",
    "# Empty list declaration: the data read from the ComBlock's FIFO will be stored here\n",
    "fifoInputTrace = []\n",
    "\n",
    "#Send data to FIFO\n",
    "zedBoard.write_fifo(len(pulse),pulse)\n",
    "zedBoard.write_reg(ENA_OPERATION_REG, 0x01) # Enable DPP operation\n",
    "time.sleep(1)\n",
    "\n",
    "fifoSamples = zedBoard.read_fifo(10)[1]\n",
    "\n",
    "print(fifoSamples)\n",
    "\n",
    "# Matching the numerical representation of the FIR filter output (integer 16 bits)\n",
    "fifoSamples = np.array(fifoSamples).astype(np.int16)\n",
    "    \n",
    "# Appending to the result array the latest data read from FIFO\n",
    "fifoInputTrace.extend(fifoSamples)\n",
    "\n",
    "# Plotting the Histogram of the pulses amplitude\n",
    "fig = plt.figure()\n",
    "\n",
    "plt.hist(fifoInputTrace, bins=30, edgecolor='black')  # Adjust the number of bins as needed\n",
    "plt.xlabel('Value')\n",
    "plt.ylabel('Frequency')\n",
    "plt.title('Histogram of Pulse Data')\n",
    "plt.show()\n"
   ]
  }
 ],
 "metadata": {
  "kernelspec": {
   "display_name": "Python 3",
   "language": "python",
   "name": "python3"
  },
  "language_info": {
   "codemirror_mode": {
    "name": "ipython",
    "version": 3
   },
   "file_extension": ".py",
   "mimetype": "text/x-python",
   "name": "python",
   "nbconvert_exporter": "python",
   "pygments_lexer": "ipython3",
   "version": "3.10.12"
  }
 },
 "nbformat": 4,
 "nbformat_minor": 2
}
