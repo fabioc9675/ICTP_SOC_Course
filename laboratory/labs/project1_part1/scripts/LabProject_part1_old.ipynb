{
 "cells": [
  {
   "cell_type": "markdown",
   "metadata": {},
   "source": [
    "# Lab Project 1\n",
    "# Part 1: Pulse Acquisition and Detector Characterization\n"
   ]
  },
  {
   "cell_type": "markdown",
   "metadata": {},
   "source": [
    "## Introduction\n",
    "This Jupyter Notebook will provide you a starting point to interface with the data acquisition system (DAQ) you have already deployed from Vivado/Vitis into the ZedBoard. The DAQ analog frontend (AFE) is provided with a 50 Msps A/D converter (ADC) and a 50 Msps D/A converter (DAC).\n",
    "\n",
    "In this stage of the project, the AFE will work as follows:\n",
    "- The ADC digitizes the raw signal from the detector\n",
    "- The DAC provides a signal loopback to assess the correctness of the digitalization and data representation within the FPGA fabric.\n",
    "\n",
    "Before starting, you should have previously finished the following steps:\n",
    "\n",
    "    [x] Deploying a trigger-based digitalization design (oscilloscope) using the ComBlock in the SoC PL (Vivado)\n",
    "    [x] Executing the UDMA server firmware in the SoC PS (Vitis) \n",
    "\n",
    "## Goals\n",
    "The main goal of this exercise (Lab Project Part 1) is:\n",
    "\n",
    "    - Computing the parameters that better fit the behavior of the detector, based on the pulse model\n",
    "\n",
    "To do so, the following secondary goals shall be achieved:  \n",
    "\n",
    "    - Acquire and record a dataset of multiple raw pulses from the detector, using the SoC/FPGA DAQ via UDMA\n",
    "    - Clean up the dataset to remove unwanted pulses and restore their baseline\n",
    "    - Fit the recorded pulses to get the average parameters that better represent the ideal pulse model of the detector\n",
    "\n",
    "## Procedure\n",
    "You will have the opportunity to demonstrate the gained knowledge throughout the previous laboratory sessions. We will provide you some hints to guide you through the steps to achieve the goals; however, the instructions are limited, leaving you the chance to write the code from scratch with the help of a couple of high-abstraction level libraries.\n",
    "\n",
    "You may use the guides from previous exercises as auxiliary material, especially the one from Lab 4. The recommended steps to follow are divided in two sections as follows:\n",
    "\n",
    "### A) Data acquisition\n",
    "- Connect to the ZedBoard via UDMA\n",
    "- Disable the UDMA logging to speed up the data acquisition\n",
    "- Setup initial acquisition parameters, using the ComBlock output registers\n",
    "  - Threshold level to trigger the capture of a pulse\n",
    "  - Number of samples to capture before the trigger\n",
    "  - Total number of pulses to capture ($N$)\n",
    "- Record $N$ pulses via UDMA using the _pulsefit_ library\n",
    "  - Verify that the recorded dataset matches your expectations\n",
    "  - Change the acquisition parameters and repeat the recording, if necessary\n",
    "\n",
    "### B) Data analysis\n",
    "#### B.1) Data wrangling\n",
    "- Clean up (remove) the saturated pulses\n",
    "- Restore the baseline of the remaining pulses\n",
    "- Leave only high-energy pulses, to reduce the fitting uncertainty\n",
    "\n",
    "#### B.2) Pulse fitting - detector characterization\n",
    "- Fit each individual pulse in the dataset using the _pulsefit_ library\n",
    "- Obtain the average parameter values that better represent the detector behavior:\n",
    "  - `tauDecay` ($\\tau_D$)\n",
    "  - `tauRise` ($\\tau_R$)\n",
    "  - `timeArrival` ($t_0$)\n",
    "\n",
    "\n",
    "---\n",
    "\n",
    "- Author(s): Ivan Morales (MLab/ICTP) - 2023/11/20 (version 1.0)\n",
    "- Update(s):\n",
    "\n",
    "---"
   ]
  },
  {
   "cell_type": "markdown",
   "metadata": {},
   "source": [
    "### Before starting\n",
    "\n",
    "🔴 All the instructions that are intended for you to code from scratch will be shown as follows: 🔴\n",
    "> Instruction to follow\n",
    "\n",
    "\n"
   ]
  },
  {
   "cell_type": "markdown",
   "metadata": {},
   "source": [
    "Importing libraries and initializing the detector parameters. Do not change any value if you are not sure of what they mean."
   ]
  },
  {
   "cell_type": "code",
   "execution_count": 97,
   "metadata": {},
   "outputs": [],
   "source": [
    "%matplotlib widget\n",
    "import numpy as np\n",
    "import matplotlib.pyplot as plt\n",
    "import pandas as pd\n",
    "from pulsefit import PulseFit\n",
    "import udma\n",
    "import time\n",
    "\n",
    "# Total trace length (samples). This value must match the Vivado Block Design settings.\n",
    "TRACE_LEN = 2048     # Number of samples to be recorded\n",
    "SAMPLING_RATE = 50e6 # Sampling rate (fs) of the ADC (50 Msps)\n",
    "ADC_RESOLUTION = 14  # Resolution of the ADC\n",
    "DC_OFFSET = (2**ADC_RESOLUTION // 2)"
   ]
  },
  {
   "cell_type": "markdown",
   "metadata": {},
   "source": [
    "## A) Data acquisition"
   ]
  },
  {
   "cell_type": "markdown",
   "metadata": {},
   "source": [
    "### Pulse recording from detector"
   ]
  },
  {
   "cell_type": "markdown",
   "metadata": {},
   "source": [
    "#### Connecting to ZedBoard via UDMA\n",
    "\n",
    "> Connect to the ZedBoard at the designated IP address and port"
   ]
  },
  {
   "cell_type": "code",
   "execution_count": 98,
   "metadata": {},
   "outputs": [],
   "source": [
    "IP_ADDRESS = '192.168.1.10' # Set your ZedBoard IP Address here\n",
    "IP_PORT = 7\n",
    "\n",
    "# Create the UDMA instance and then connect to the ZedBoard. Assign it to the variable called \"zedBoard\"\n",
    "zedBoard = udma.UDMA_CLASS(IP_ADDRESS, IP_PORT)"
   ]
  },
  {
   "cell_type": "code",
   "execution_count": 99,
   "metadata": {},
   "outputs": [],
   "source": [
    "connectionStatus = 0\n",
    "while(connectionStatus == 0):\n",
    "    connectionStatus = zedBoard.connect()\n",
    "    time.sleep(1)"
   ]
  },
  {
   "cell_type": "markdown",
   "metadata": {},
   "source": [
    "> Do not forget to disable the logging in UDMA to speed-up the transactions"
   ]
  },
  {
   "cell_type": "code",
   "execution_count": 100,
   "metadata": {},
   "outputs": [],
   "source": [
    "# Disable unused logging to speed up data transactions\n",
    "_ = zedBoard.log(0)"
   ]
  },
  {
   "cell_type": "markdown",
   "metadata": {},
   "source": [
    "#### Setting up pulse acquisition parameters"
   ]
  },
  {
   "cell_type": "markdown",
   "metadata": {},
   "source": [
    "The trigger logic block in the Vivado Block design acts as a simple oscilloscope. Set the parameter values that you'll use for the acquisition. These values can be changed according to your needs."
   ]
  },
  {
   "cell_type": "code",
   "execution_count": 111,
   "metadata": {},
   "outputs": [
    {
     "name": "stdout",
     "output_type": "stream",
     "text": [
      "10192\n"
     ]
    }
   ],
   "source": [
    "THRESHOLD_LEVEL = DC_OFFSET + 1000  # In ADC values (must ALWAYS include the DC offset)\n",
    "SAMPLES_BEFORE_TRIGGER = 512        # Samples to be recorded before the trigger\n",
    "TOTAL_PULSES_TO_RECORD = 100        # Number of pulses to be recorded\n",
    "\n",
    "print(THRESHOLD_LEVEL)"
   ]
  },
  {
   "cell_type": "markdown",
   "metadata": {},
   "source": [
    "The following registers must match your Vivado design\n",
    "\n",
    "Comblock Register Outputs -> TriggerLogic Block Inputs"
   ]
  },
  {
   "cell_type": "markdown",
   "metadata": {},
   "source": [
    "> Write the ComBlock register outputs that match the TriggerLogic block inputs, according to your block design in Vivado\n",
    "\n",
    "Use the constants from in the previous cell, defined with self-explanatory names:\n",
    "- `THRESHOLD_LEVEL`\n",
    "- `SAMPLES_BEFORE_TRIGGER`\n",
    "- `TOTAL_PULSES_TO_RECORD`\n",
    "\n",
    "🔴 Notice that `THRESHOLD_LEVEL` is defined with a DC_OFFSET that must be always present 🔴"
   ]
  },
  {
   "cell_type": "code",
   "execution_count": 102,
   "metadata": {},
   "outputs": [],
   "source": [
    "# Use the constants defined in the previous code block (THRESHOLD_LEVEL, SAMPLES_BEFORE_TRIGGER, TOTAL_PULSES_TO_RECORD)\n",
    "# Output registers\n",
    "CB_TOTAL_PULSES_REG\t\t= 0 # variable data a\n",
    "CB_SAMPLES_REG\t\t    = 1 # variable data b\n",
    "CB_THRESHOLD_REG\t    = 2 # operation code register"
   ]
  },
  {
   "cell_type": "code",
   "execution_count": 115,
   "metadata": {},
   "outputs": [
    {
     "ename": "KeyboardInterrupt",
     "evalue": "",
     "output_type": "error",
     "traceback": [
      "\u001b[0;31m---------------------------------------------------------------------------\u001b[0m",
      "\u001b[0;31mKeyboardInterrupt\u001b[0m                         Traceback (most recent call last)",
      "\u001b[1;32m/home/argo49/smr3891/labs/project1_part1/scripts/LabProject_part1.ipynb Cell 19\u001b[0m line \u001b[0;36m1\n\u001b[0;32m----> <a href='vscode-notebook-cell:/home/argo49/smr3891/labs/project1_part1/scripts/LabProject_part1.ipynb#Y111sZmlsZQ%3D%3D?line=0'>1</a>\u001b[0m zedBoard\u001b[39m.\u001b[39;49mwrite_reg(reg \u001b[39m=\u001b[39;49m CB_TOTAL_PULSES_REG, data \u001b[39m=\u001b[39;49m TRACE_LEN)\n\u001b[1;32m      <a href='vscode-notebook-cell:/home/argo49/smr3891/labs/project1_part1/scripts/LabProject_part1.ipynb#Y111sZmlsZQ%3D%3D?line=1'>2</a>\u001b[0m zedBoard\u001b[39m.\u001b[39mwrite_reg(reg \u001b[39m=\u001b[39m CB_SAMPLES_REG, data \u001b[39m=\u001b[39m SAMPLES_BEFORE_TRIGGER)\n\u001b[1;32m      <a href='vscode-notebook-cell:/home/argo49/smr3891/labs/project1_part1/scripts/LabProject_part1.ipynb#Y111sZmlsZQ%3D%3D?line=2'>3</a>\u001b[0m zedBoard\u001b[39m.\u001b[39mwrite_reg(reg \u001b[39m=\u001b[39m CB_THRESHOLD_REG, data \u001b[39m=\u001b[39m THRESHOLD_LEVEL)\n",
      "File \u001b[0;32m~/.local/lib/python3.10/site-packages/udma/udma.py:251\u001b[0m, in \u001b[0;36mUDMA_CLASS.write_reg\u001b[0;34m(self, reg, data)\u001b[0m\n\u001b[1;32m    249\u001b[0m tx_buf  \u001b[39m=\u001b[39m pack(\u001b[39m\"\u001b[39m\u001b[39m<III\u001b[39m\u001b[39m\"\u001b[39m, WRITE_REG, reg, data)  \u001b[39m#first data is package type\u001b[39;00m\n\u001b[1;32m    250\u001b[0m \u001b[39mself\u001b[39m\u001b[39m.\u001b[39ms\u001b[39m.\u001b[39msend(tx_buf)\n\u001b[0;32m--> 251\u001b[0m head \u001b[39m=\u001b[39m unpack(\u001b[39m'\u001b[39m\u001b[39m<II\u001b[39m\u001b[39m'\u001b[39m, \u001b[39mself\u001b[39;49m\u001b[39m.\u001b[39;49ms\u001b[39m.\u001b[39;49mrecv(\u001b[39m2\u001b[39;49m \u001b[39m*\u001b[39;49m \u001b[39m4\u001b[39;49m))\n\u001b[1;32m    252\u001b[0m \u001b[39mreturn\u001b[39;00m [head, \u001b[39m0\u001b[39m]\n",
      "\u001b[0;31mKeyboardInterrupt\u001b[0m: "
     ]
    }
   ],
   "source": [
    "zedBoard.write_reg(reg = CB_TOTAL_PULSES_REG, data = TRACE_LEN)\n",
    "zedBoard.write_reg(reg = CB_SAMPLES_REG, data = SAMPLES_BEFORE_TRIGGER)\n",
    "zedBoard.write_reg(reg = CB_THRESHOLD_REG, data = THRESHOLD_LEVEL)"
   ]
  },
  {
   "cell_type": "markdown",
   "metadata": {},
   "source": [
    "#### Initializing pulse recording and fitting library"
   ]
  },
  {
   "cell_type": "code",
   "execution_count": 104,
   "metadata": {},
   "outputs": [],
   "source": [
    "# Setting up recording and analysis parameters\n",
    "pulseAnalysis = PulseFit(\n",
    "    pulseLenSamples = TRACE_LEN,\n",
    "    samplingRate = SAMPLING_RATE,\n",
    "    resolutionBits = ADC_RESOLUTION\n",
    ")"
   ]
  },
  {
   "cell_type": "markdown",
   "metadata": {},
   "source": [
    "#### Recording dataset\n",
    "The ```recordDataset``` method is a high-level function that executes several times (```TOTAL_PULSES_TO_RECORD```) the ```UDMA.read_fifo``` instruction. You are already familiar with this UDMA functionality from Lab 4, so we provide you a shortcut here.\n",
    "\n",
    "Results will be recorded in the variable ```dataset```"
   ]
  },
  {
   "cell_type": "code",
   "execution_count": 108,
   "metadata": {},
   "outputs": [],
   "source": [
    "dataset = pulseAnalysis.recordDataset(\n",
    "    pulseCount = TOTAL_PULSES_TO_RECORD,\n",
    "    udmaInstance = zedBoard\n",
    ")"
   ]
  },
  {
   "cell_type": "markdown",
   "metadata": {},
   "source": [
    "After several seconds, you can observe the recorded dataset into a dataframe.\n",
    "\n",
    "Each row represents a recorded pulse, while each column is the sampled analog value from the ADC.\n",
    "\n",
    "Consequently, the number of columns must match with the ```TRACE_LEN``` constant, and the number of rows must be equal to the ```TOTAL_PULSES_TO_RECORD``` value."
   ]
  },
  {
   "cell_type": "code",
   "execution_count": 113,
   "metadata": {},
   "outputs": [
    {
     "data": {
      "text/html": [
       "<div>\n",
       "<style scoped>\n",
       "    .dataframe tbody tr th:only-of-type {\n",
       "        vertical-align: middle;\n",
       "    }\n",
       "\n",
       "    .dataframe tbody tr th {\n",
       "        vertical-align: top;\n",
       "    }\n",
       "\n",
       "    .dataframe thead th {\n",
       "        text-align: right;\n",
       "    }\n",
       "</style>\n",
       "<table border=\"1\" class=\"dataframe\">\n",
       "  <thead>\n",
       "    <tr style=\"text-align: right;\">\n",
       "      <th></th>\n",
       "      <th>0</th>\n",
       "      <th>1</th>\n",
       "      <th>2</th>\n",
       "      <th>3</th>\n",
       "      <th>4</th>\n",
       "      <th>5</th>\n",
       "      <th>6</th>\n",
       "      <th>7</th>\n",
       "      <th>8</th>\n",
       "      <th>9</th>\n",
       "      <th>...</th>\n",
       "      <th>2038</th>\n",
       "      <th>2039</th>\n",
       "      <th>2040</th>\n",
       "      <th>2041</th>\n",
       "      <th>2042</th>\n",
       "      <th>2043</th>\n",
       "      <th>2044</th>\n",
       "      <th>2045</th>\n",
       "      <th>2046</th>\n",
       "      <th>2047</th>\n",
       "    </tr>\n",
       "  </thead>\n",
       "  <tbody>\n",
       "    <tr>\n",
       "      <th>0</th>\n",
       "      <td>8132</td>\n",
       "      <td>8137</td>\n",
       "      <td>8142</td>\n",
       "      <td>8133</td>\n",
       "      <td>8130</td>\n",
       "      <td>8131</td>\n",
       "      <td>8135</td>\n",
       "      <td>8135</td>\n",
       "      <td>8127</td>\n",
       "      <td>8132</td>\n",
       "      <td>...</td>\n",
       "      <td>8121</td>\n",
       "      <td>8127</td>\n",
       "      <td>8128</td>\n",
       "      <td>8129</td>\n",
       "      <td>8127</td>\n",
       "      <td>8128</td>\n",
       "      <td>8134</td>\n",
       "      <td>8125</td>\n",
       "      <td>8126</td>\n",
       "      <td>8122</td>\n",
       "    </tr>\n",
       "    <tr>\n",
       "      <th>1</th>\n",
       "      <td>8133</td>\n",
       "      <td>8138</td>\n",
       "      <td>8133</td>\n",
       "      <td>8134</td>\n",
       "      <td>8140</td>\n",
       "      <td>8138</td>\n",
       "      <td>8138</td>\n",
       "      <td>8136</td>\n",
       "      <td>8139</td>\n",
       "      <td>8143</td>\n",
       "      <td>...</td>\n",
       "      <td>8132</td>\n",
       "      <td>8125</td>\n",
       "      <td>8132</td>\n",
       "      <td>8126</td>\n",
       "      <td>8126</td>\n",
       "      <td>8126</td>\n",
       "      <td>8128</td>\n",
       "      <td>8125</td>\n",
       "      <td>8126</td>\n",
       "      <td>8130</td>\n",
       "    </tr>\n",
       "    <tr>\n",
       "      <th>2</th>\n",
       "      <td>8134</td>\n",
       "      <td>8126</td>\n",
       "      <td>8143</td>\n",
       "      <td>8131</td>\n",
       "      <td>8137</td>\n",
       "      <td>8128</td>\n",
       "      <td>8140</td>\n",
       "      <td>8138</td>\n",
       "      <td>8135</td>\n",
       "      <td>8135</td>\n",
       "      <td>...</td>\n",
       "      <td>8125</td>\n",
       "      <td>8120</td>\n",
       "      <td>8122</td>\n",
       "      <td>8118</td>\n",
       "      <td>8122</td>\n",
       "      <td>8125</td>\n",
       "      <td>8122</td>\n",
       "      <td>8127</td>\n",
       "      <td>8122</td>\n",
       "      <td>8130</td>\n",
       "    </tr>\n",
       "    <tr>\n",
       "      <th>3</th>\n",
       "      <td>8127</td>\n",
       "      <td>8142</td>\n",
       "      <td>8136</td>\n",
       "      <td>8128</td>\n",
       "      <td>8133</td>\n",
       "      <td>8131</td>\n",
       "      <td>8134</td>\n",
       "      <td>8130</td>\n",
       "      <td>8137</td>\n",
       "      <td>8131</td>\n",
       "      <td>...</td>\n",
       "      <td>8133</td>\n",
       "      <td>8137</td>\n",
       "      <td>8134</td>\n",
       "      <td>8141</td>\n",
       "      <td>8134</td>\n",
       "      <td>8138</td>\n",
       "      <td>8135</td>\n",
       "      <td>8136</td>\n",
       "      <td>8135</td>\n",
       "      <td>8139</td>\n",
       "    </tr>\n",
       "    <tr>\n",
       "      <th>4</th>\n",
       "      <td>8140</td>\n",
       "      <td>8137</td>\n",
       "      <td>8135</td>\n",
       "      <td>8147</td>\n",
       "      <td>8141</td>\n",
       "      <td>8131</td>\n",
       "      <td>8141</td>\n",
       "      <td>8134</td>\n",
       "      <td>8130</td>\n",
       "      <td>8140</td>\n",
       "      <td>...</td>\n",
       "      <td>8130</td>\n",
       "      <td>8133</td>\n",
       "      <td>8136</td>\n",
       "      <td>8135</td>\n",
       "      <td>8138</td>\n",
       "      <td>8138</td>\n",
       "      <td>8135</td>\n",
       "      <td>8137</td>\n",
       "      <td>8136</td>\n",
       "      <td>8138</td>\n",
       "    </tr>\n",
       "    <tr>\n",
       "      <th>...</th>\n",
       "      <td>...</td>\n",
       "      <td>...</td>\n",
       "      <td>...</td>\n",
       "      <td>...</td>\n",
       "      <td>...</td>\n",
       "      <td>...</td>\n",
       "      <td>...</td>\n",
       "      <td>...</td>\n",
       "      <td>...</td>\n",
       "      <td>...</td>\n",
       "      <td>...</td>\n",
       "      <td>...</td>\n",
       "      <td>...</td>\n",
       "      <td>...</td>\n",
       "      <td>...</td>\n",
       "      <td>...</td>\n",
       "      <td>...</td>\n",
       "      <td>...</td>\n",
       "      <td>...</td>\n",
       "      <td>...</td>\n",
       "      <td>...</td>\n",
       "    </tr>\n",
       "    <tr>\n",
       "      <th>95</th>\n",
       "      <td>8135</td>\n",
       "      <td>8132</td>\n",
       "      <td>8144</td>\n",
       "      <td>8136</td>\n",
       "      <td>8148</td>\n",
       "      <td>8140</td>\n",
       "      <td>8137</td>\n",
       "      <td>8140</td>\n",
       "      <td>8142</td>\n",
       "      <td>8138</td>\n",
       "      <td>...</td>\n",
       "      <td>8137</td>\n",
       "      <td>8139</td>\n",
       "      <td>8133</td>\n",
       "      <td>8144</td>\n",
       "      <td>8136</td>\n",
       "      <td>8142</td>\n",
       "      <td>8138</td>\n",
       "      <td>8143</td>\n",
       "      <td>8143</td>\n",
       "      <td>8135</td>\n",
       "    </tr>\n",
       "    <tr>\n",
       "      <th>96</th>\n",
       "      <td>8133</td>\n",
       "      <td>8131</td>\n",
       "      <td>8130</td>\n",
       "      <td>8133</td>\n",
       "      <td>8132</td>\n",
       "      <td>8133</td>\n",
       "      <td>8128</td>\n",
       "      <td>8135</td>\n",
       "      <td>8132</td>\n",
       "      <td>8133</td>\n",
       "      <td>...</td>\n",
       "      <td>8132</td>\n",
       "      <td>8142</td>\n",
       "      <td>8135</td>\n",
       "      <td>8137</td>\n",
       "      <td>8137</td>\n",
       "      <td>8129</td>\n",
       "      <td>8134</td>\n",
       "      <td>8133</td>\n",
       "      <td>8130</td>\n",
       "      <td>8133</td>\n",
       "    </tr>\n",
       "    <tr>\n",
       "      <th>97</th>\n",
       "      <td>8120</td>\n",
       "      <td>8122</td>\n",
       "      <td>8121</td>\n",
       "      <td>8127</td>\n",
       "      <td>8124</td>\n",
       "      <td>8125</td>\n",
       "      <td>8133</td>\n",
       "      <td>8126</td>\n",
       "      <td>8131</td>\n",
       "      <td>8127</td>\n",
       "      <td>...</td>\n",
       "      <td>8135</td>\n",
       "      <td>8132</td>\n",
       "      <td>8135</td>\n",
       "      <td>8136</td>\n",
       "      <td>8123</td>\n",
       "      <td>8134</td>\n",
       "      <td>8135</td>\n",
       "      <td>8127</td>\n",
       "      <td>8142</td>\n",
       "      <td>8134</td>\n",
       "    </tr>\n",
       "    <tr>\n",
       "      <th>98</th>\n",
       "      <td>8132</td>\n",
       "      <td>8134</td>\n",
       "      <td>8133</td>\n",
       "      <td>8136</td>\n",
       "      <td>8134</td>\n",
       "      <td>8136</td>\n",
       "      <td>8128</td>\n",
       "      <td>8137</td>\n",
       "      <td>8139</td>\n",
       "      <td>8142</td>\n",
       "      <td>...</td>\n",
       "      <td>8142</td>\n",
       "      <td>8136</td>\n",
       "      <td>8128</td>\n",
       "      <td>8132</td>\n",
       "      <td>8134</td>\n",
       "      <td>8134</td>\n",
       "      <td>8134</td>\n",
       "      <td>8141</td>\n",
       "      <td>8136</td>\n",
       "      <td>8139</td>\n",
       "    </tr>\n",
       "    <tr>\n",
       "      <th>99</th>\n",
       "      <td>8146</td>\n",
       "      <td>8151</td>\n",
       "      <td>8144</td>\n",
       "      <td>8143</td>\n",
       "      <td>8142</td>\n",
       "      <td>8137</td>\n",
       "      <td>8143</td>\n",
       "      <td>8149</td>\n",
       "      <td>8138</td>\n",
       "      <td>8147</td>\n",
       "      <td>...</td>\n",
       "      <td>8142</td>\n",
       "      <td>8140</td>\n",
       "      <td>8138</td>\n",
       "      <td>8145</td>\n",
       "      <td>8135</td>\n",
       "      <td>8133</td>\n",
       "      <td>8144</td>\n",
       "      <td>8132</td>\n",
       "      <td>8131</td>\n",
       "      <td>8136</td>\n",
       "    </tr>\n",
       "  </tbody>\n",
       "</table>\n",
       "<p>100 rows × 2048 columns</p>\n",
       "</div>"
      ],
      "text/plain": [
       "    0     1     2     3     4     5     6     7     8     9     ...  2038  \\\n",
       "0   8132  8137  8142  8133  8130  8131  8135  8135  8127  8132  ...  8121   \n",
       "1   8133  8138  8133  8134  8140  8138  8138  8136  8139  8143  ...  8132   \n",
       "2   8134  8126  8143  8131  8137  8128  8140  8138  8135  8135  ...  8125   \n",
       "3   8127  8142  8136  8128  8133  8131  8134  8130  8137  8131  ...  8133   \n",
       "4   8140  8137  8135  8147  8141  8131  8141  8134  8130  8140  ...  8130   \n",
       "..   ...   ...   ...   ...   ...   ...   ...   ...   ...   ...  ...   ...   \n",
       "95  8135  8132  8144  8136  8148  8140  8137  8140  8142  8138  ...  8137   \n",
       "96  8133  8131  8130  8133  8132  8133  8128  8135  8132  8133  ...  8132   \n",
       "97  8120  8122  8121  8127  8124  8125  8133  8126  8131  8127  ...  8135   \n",
       "98  8132  8134  8133  8136  8134  8136  8128  8137  8139  8142  ...  8142   \n",
       "99  8146  8151  8144  8143  8142  8137  8143  8149  8138  8147  ...  8142   \n",
       "\n",
       "    2039  2040  2041  2042  2043  2044  2045  2046  2047  \n",
       "0   8127  8128  8129  8127  8128  8134  8125  8126  8122  \n",
       "1   8125  8132  8126  8126  8126  8128  8125  8126  8130  \n",
       "2   8120  8122  8118  8122  8125  8122  8127  8122  8130  \n",
       "3   8137  8134  8141  8134  8138  8135  8136  8135  8139  \n",
       "4   8133  8136  8135  8138  8138  8135  8137  8136  8138  \n",
       "..   ...   ...   ...   ...   ...   ...   ...   ...   ...  \n",
       "95  8139  8133  8144  8136  8142  8138  8143  8143  8135  \n",
       "96  8142  8135  8137  8137  8129  8134  8133  8130  8133  \n",
       "97  8132  8135  8136  8123  8134  8135  8127  8142  8134  \n",
       "98  8136  8128  8132  8134  8134  8134  8141  8136  8139  \n",
       "99  8140  8138  8145  8135  8133  8144  8132  8131  8136  \n",
       "\n",
       "[100 rows x 2048 columns]"
      ]
     },
     "execution_count": 113,
     "metadata": {},
     "output_type": "execute_result"
    }
   ],
   "source": [
    "# Just printing the recorded dataset values\n",
    "dataset"
   ]
  },
  {
   "cell_type": "markdown",
   "metadata": {},
   "source": [
    "A visual representation of the recorded dataset, previous to the cleaning process."
   ]
  },
  {
   "cell_type": "code",
   "execution_count": 114,
   "metadata": {},
   "outputs": [
    {
     "data": {
      "application/vnd.jupyter.widget-view+json": {
       "model_id": "eae4dfa4b46c4a23aa21419de7d5467b",
       "version_major": 2,
       "version_minor": 0
      },
      "image/png": "[encoded data removed]",
      "text/html": [
       "\n",
       "            <div style=\"display: inline-block;\">\n",
       "                <div class=\"jupyter-widgets widget-label\" style=\"text-align: center;\">\n",
       "                    Figure\n",
       "                </div>\n",
       "                <img src='data:image/png;base64,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' width=640.0/>\n",
       "            </div>\n",
       "        "
      ],
      "text/plain": [
       "Canvas(toolbar=Toolbar(toolitems=[('Home', 'Reset original view', 'home', 'home'), ('Back', 'Back to previous …"
      ]
     },
     "metadata": {},
     "output_type": "display_data"
    }
   ],
   "source": [
    "timeAxisMicroseconds = pulseAnalysis.getTimeAxisContinuous(useMicroSeconds = True)\n",
    "timeAxisSeconds = pulseAnalysis.getTimeAxisContinuous(useMicroSeconds = False)\n",
    "PLOT_Y_OFFSET = 256\n",
    "plt.figure()\n",
    "plt.plot(timeAxisMicroseconds, dataset.T.values)\n",
    "plt.title(\"Raw recorded dataset\")\n",
    "plt.xlabel(\"Time ($\\mu s$)\")\n",
    "plt.ylabel(\"Amplitude (ADC units)\")\n",
    "plt.ylim((-PLOT_Y_OFFSET, 2**ADC_RESOLUTION + PLOT_Y_OFFSET))\n",
    "\n",
    "plt.show()"
   ]
  },
  {
   "cell_type": "markdown",
   "metadata": {},
   "source": [
    "## B) Data analysis"
   ]
  },
  {
   "cell_type": "markdown",
   "metadata": {},
   "source": [
    "### B.1) Data wrangling"
   ]
  },
  {
   "cell_type": "markdown",
   "metadata": {},
   "source": [
    "#### Removing saturated pulses"
   ]
  },
  {
   "cell_type": "markdown",
   "metadata": {},
   "source": [
    "The following steps will take the original dataset and remove the saturated pulses "
   ]
  },
  {
   "cell_type": "code",
   "execution_count": 112,
   "metadata": {},
   "outputs": [
    {
     "ename": "ValueError",
     "evalue": "operands could not be broadcast together with shapes (2,) (3,) ",
     "output_type": "error",
     "traceback": [
      "\u001b[0;31m---------------------------------------------------------------------------\u001b[0m",
      "\u001b[0;31mValueError\u001b[0m                                Traceback (most recent call last)",
      "\u001b[1;32m/home/argo49/smr3891/labs/project1_part1/scripts/LabProject_part1.ipynb Cell 32\u001b[0m line \u001b[0;36m1\n\u001b[0;32m----> <a href='vscode-notebook-cell:/home/argo49/smr3891/labs/project1_part1/scripts/LabProject_part1.ipynb#X42sZmlsZQ%3D%3D?line=0'>1</a>\u001b[0m datasetNoSat \u001b[39m=\u001b[39m pulseAnalysis\u001b[39m.\u001b[39;49mremoveSaturated(dataset)\n",
      "File \u001b[0;32m~/smr3891/labs/project1_part1/scripts/pulsefit.py:126\u001b[0m, in \u001b[0;36mPulseFit.removeSaturated\u001b[0;34m(self, dataset, invertedPulse)\u001b[0m\n\u001b[1;32m    114\u001b[0m \u001b[39mdef\u001b[39;00m \u001b[39mremoveSaturated\u001b[39m(\u001b[39mself\u001b[39m,\n\u001b[1;32m    115\u001b[0m                     dataset : pd\u001b[39m.\u001b[39mDataFrame,\n\u001b[1;32m    116\u001b[0m                     invertedPulse : \u001b[39mbool\u001b[39m \u001b[39m=\u001b[39m \u001b[39mFalse\u001b[39;00m):\n\u001b[1;32m    117\u001b[0m     \u001b[39m\"\"\"Returns a dataset without saturated pulses\u001b[39;00m\n\u001b[1;32m    118\u001b[0m \n\u001b[1;32m    119\u001b[0m \u001b[39m    Args:\u001b[39;00m\n\u001b[0;32m   (...)\u001b[0m\n\u001b[1;32m    124\u001b[0m \u001b[39m        pd.DataFrame: Pandas DataFrame without saturated pulses\u001b[39;00m\n\u001b[1;32m    125\u001b[0m \u001b[39m    \"\"\"\u001b[39;00m\n\u001b[0;32m--> 126\u001b[0m     nonSaturatedIndex \u001b[39m=\u001b[39m dataset\u001b[39m.\u001b[39;49mapply(\u001b[39mself\u001b[39;49m\u001b[39m.\u001b[39;49m__nonSaturatedPulse,\n\u001b[1;32m    127\u001b[0m                                    args \u001b[39m=\u001b[39;49m (invertedPulse, ),\n\u001b[1;32m    128\u001b[0m                                    axis \u001b[39m=\u001b[39;49m \u001b[39m1\u001b[39;49m)\n\u001b[1;32m    130\u001b[0m     \u001b[39mreturn\u001b[39;00m dataset\u001b[39m.\u001b[39mloc[nonSaturatedIndex]\n",
      "File \u001b[0;32m~/.local/lib/python3.10/site-packages/pandas/core/frame.py:10034\u001b[0m, in \u001b[0;36mDataFrame.apply\u001b[0;34m(self, func, axis, raw, result_type, args, by_row, **kwargs)\u001b[0m\n\u001b[1;32m  10022\u001b[0m \u001b[39mfrom\u001b[39;00m \u001b[39mpandas\u001b[39;00m\u001b[39m.\u001b[39;00m\u001b[39mcore\u001b[39;00m\u001b[39m.\u001b[39;00m\u001b[39mapply\u001b[39;00m \u001b[39mimport\u001b[39;00m frame_apply\n\u001b[1;32m  10024\u001b[0m op \u001b[39m=\u001b[39m frame_apply(\n\u001b[1;32m  10025\u001b[0m     \u001b[39mself\u001b[39m,\n\u001b[1;32m  10026\u001b[0m     func\u001b[39m=\u001b[39mfunc,\n\u001b[0;32m   (...)\u001b[0m\n\u001b[1;32m  10032\u001b[0m     kwargs\u001b[39m=\u001b[39mkwargs,\n\u001b[1;32m  10033\u001b[0m )\n\u001b[0;32m> 10034\u001b[0m \u001b[39mreturn\u001b[39;00m op\u001b[39m.\u001b[39;49mapply()\u001b[39m.\u001b[39m__finalize__(\u001b[39mself\u001b[39m, method\u001b[39m=\u001b[39m\u001b[39m\"\u001b[39m\u001b[39mapply\u001b[39m\u001b[39m\"\u001b[39m)\n",
      "File \u001b[0;32m~/.local/lib/python3.10/site-packages/pandas/core/apply.py:837\u001b[0m, in \u001b[0;36mFrameApply.apply\u001b[0;34m(self)\u001b[0m\n\u001b[1;32m    834\u001b[0m \u001b[39melif\u001b[39;00m \u001b[39mself\u001b[39m\u001b[39m.\u001b[39mraw:\n\u001b[1;32m    835\u001b[0m     \u001b[39mreturn\u001b[39;00m \u001b[39mself\u001b[39m\u001b[39m.\u001b[39mapply_raw()\n\u001b[0;32m--> 837\u001b[0m \u001b[39mreturn\u001b[39;00m \u001b[39mself\u001b[39;49m\u001b[39m.\u001b[39;49mapply_standard()\n",
      "File \u001b[0;32m~/.local/lib/python3.10/site-packages/pandas/core/apply.py:963\u001b[0m, in \u001b[0;36mFrameApply.apply_standard\u001b[0;34m(self)\u001b[0m\n\u001b[1;32m    962\u001b[0m \u001b[39mdef\u001b[39;00m \u001b[39mapply_standard\u001b[39m(\u001b[39mself\u001b[39m):\n\u001b[0;32m--> 963\u001b[0m     results, res_index \u001b[39m=\u001b[39m \u001b[39mself\u001b[39;49m\u001b[39m.\u001b[39;49mapply_series_generator()\n\u001b[1;32m    965\u001b[0m     \u001b[39m# wrap results\u001b[39;00m\n\u001b[1;32m    966\u001b[0m     \u001b[39mreturn\u001b[39;00m \u001b[39mself\u001b[39m\u001b[39m.\u001b[39mwrap_results(results, res_index)\n",
      "File \u001b[0;32m~/.local/lib/python3.10/site-packages/pandas/core/apply.py:979\u001b[0m, in \u001b[0;36mFrameApply.apply_series_generator\u001b[0;34m(self)\u001b[0m\n\u001b[1;32m    976\u001b[0m \u001b[39mwith\u001b[39;00m option_context(\u001b[39m\"\u001b[39m\u001b[39mmode.chained_assignment\u001b[39m\u001b[39m\"\u001b[39m, \u001b[39mNone\u001b[39;00m):\n\u001b[1;32m    977\u001b[0m     \u001b[39mfor\u001b[39;00m i, v \u001b[39min\u001b[39;00m \u001b[39menumerate\u001b[39m(series_gen):\n\u001b[1;32m    978\u001b[0m         \u001b[39m# ignore SettingWithCopy here in case the user mutates\u001b[39;00m\n\u001b[0;32m--> 979\u001b[0m         results[i] \u001b[39m=\u001b[39m \u001b[39mself\u001b[39;49m\u001b[39m.\u001b[39;49mfunc(v, \u001b[39m*\u001b[39;49m\u001b[39mself\u001b[39;49m\u001b[39m.\u001b[39;49margs, \u001b[39m*\u001b[39;49m\u001b[39m*\u001b[39;49m\u001b[39mself\u001b[39;49m\u001b[39m.\u001b[39;49mkwargs)\n\u001b[1;32m    980\u001b[0m         \u001b[39mif\u001b[39;00m \u001b[39misinstance\u001b[39m(results[i], ABCSeries):\n\u001b[1;32m    981\u001b[0m             \u001b[39m# If we have a view on v, we need to make a copy because\u001b[39;00m\n\u001b[1;32m    982\u001b[0m             \u001b[39m#  series_generator will swap out the underlying data\u001b[39;00m\n\u001b[1;32m    983\u001b[0m             results[i] \u001b[39m=\u001b[39m results[i]\u001b[39m.\u001b[39mcopy(deep\u001b[39m=\u001b[39m\u001b[39mFalse\u001b[39;00m)\n",
      "File \u001b[0;32m~/smr3891/labs/project1_part1/scripts/pulsefit.py:299\u001b[0m, in \u001b[0;36mPulseFit.__nonSaturatedPulse\u001b[0;34m(self, pulseArray, invertedPulse)\u001b[0m\n\u001b[1;32m    296\u001b[0m satIndices \u001b[39m=\u001b[39m np\u001b[39m.\u001b[39mwhere(pulseArray \u001b[39m==\u001b[39m maxAmp)[\u001b[39m0\u001b[39m]\n\u001b[1;32m    298\u001b[0m \u001b[39m# If a continuous range of indices coincides with saturated index list -> saturated\u001b[39;00m\n\u001b[0;32m--> 299\u001b[0m \u001b[39mif\u001b[39;00m np\u001b[39m.\u001b[39msum(\u001b[39mrange\u001b[39;49m(satIndices[\u001b[39m0\u001b[39;49m], satIndices[\u001b[39m0\u001b[39;49m] \u001b[39m+\u001b[39;49m \u001b[39mself\u001b[39;49m\u001b[39m.\u001b[39;49mSATURATED_PULSE_SAMPLES) \u001b[39m==\u001b[39;49m satIndices[\u001b[39m0\u001b[39;49m:\u001b[39mself\u001b[39;49m\u001b[39m.\u001b[39;49mSATURATED_PULSE_SAMPLES]) \u001b[39m==\u001b[39m \u001b[39mself\u001b[39m\u001b[39m.\u001b[39mSATURATED_PULSE_SAMPLES:\n\u001b[1;32m    300\u001b[0m     \u001b[39mreturn\u001b[39;00m \u001b[39mFalse\u001b[39;00m\n\u001b[1;32m    302\u001b[0m \u001b[39mreturn\u001b[39;00m \u001b[39mTrue\u001b[39;00m\n",
      "\u001b[0;31mValueError\u001b[0m: operands could not be broadcast together with shapes (2,) (3,) "
     ]
    }
   ],
   "source": [
    "datasetNoSat = pulseAnalysis.removeSaturated(dataset)"
   ]
  },
  {
   "cell_type": "code",
   "execution_count": null,
   "metadata": {},
   "outputs": [],
   "source": [
    "# Plotting the recorded dataset along the non-saturated dataset\n",
    "\n",
    "plt.figure(figsize=(12,5))\n",
    "plt.subplot(1, 2, 1)\n",
    "plt.plot(timeAxisMicroseconds, dataset.T.values)\n",
    "plt.title(\"Original recorded dataset\")\n",
    "plt.xlabel(\"Time ($\\mu s$)\")\n",
    "plt.ylabel(\"Amplitude (ADC units)\")\n",
    "plt.ylim((-PLOT_Y_OFFSET, 2**ADC_RESOLUTION + PLOT_Y_OFFSET))\n",
    "\n",
    "plt.subplot(1, 2, 2)\n",
    "plt.title(\"Non-saturated pulses\")\n",
    "plt.plot(timeAxisMicroseconds, datasetNoSat.T.values)\n",
    "plt.xlabel(\"Time ($\\mu s$)\")\n",
    "plt.ylabel(\"Amplitude (ADC units)\")\n",
    "plt.ylim((-PLOT_Y_OFFSET, 2**ADC_RESOLUTION + PLOT_Y_OFFSET))\n",
    "\n",
    "plt.show()\n"
   ]
  },
  {
   "cell_type": "markdown",
   "metadata": {},
   "source": [
    "#### Restoring baseline"
   ]
  },
  {
   "cell_type": "markdown",
   "metadata": {},
   "source": [
    "Use the dataset without saturated events (`datasetNoSat`) to restore their baseline average to `0` adc units"
   ]
  },
  {
   "cell_type": "code",
   "execution_count": null,
   "metadata": {},
   "outputs": [],
   "source": [
    "datasetNoSatNoBl = pulseAnalysis.restoreBaseline(datasetNoSat)"
   ]
  },
  {
   "cell_type": "code",
   "execution_count": null,
   "metadata": {},
   "outputs": [],
   "source": [
    "plt.figure(figsize=(12,5))\n",
    "\n",
    "plt.subplot(1, 2, 1)\n",
    "plt.title(\"Pulses before baseline restoring\")\n",
    "plt.plot(timeAxisMicroseconds, datasetNoSat.T.values)\n",
    "plt.xlabel(\"Time ($\\mu s$)\")\n",
    "plt.ylabel(\"Amplitude (ADC units)\")\n",
    "plt.ylim((-PLOT_Y_OFFSET, 2**ADC_RESOLUTION + PLOT_Y_OFFSET))\n",
    "\n",
    "plt.subplot(1, 2, 2)\n",
    "plt.plot(timeAxisMicroseconds, datasetNoSatNoBl.T.values)\n",
    "plt.title(\"Pulses with restored baseline\")\n",
    "plt.xlabel(\"Time ($\\mu s$)\")\n",
    "plt.ylabel(\"Amplitude (ADC units)\")\n",
    "plt.ylim((-200, 2**ADC_RESOLUTION + PLOT_Y_OFFSET))\n",
    "plt.show()\n"
   ]
  },
  {
   "cell_type": "markdown",
   "metadata": {},
   "source": [
    "#### Removing small pulses\n",
    "\n",
    "This step is required to use the pulses that were recorded with the highest amplitude definition, leading to a lower fitting error.\n",
    "\n",
    "Notice that the amount of pulses may be considerably reduced after this filtering process."
   ]
  },
  {
   "cell_type": "code",
   "execution_count": null,
   "metadata": {},
   "outputs": [],
   "source": [
    "# Define the minimum amplitude of the pulses to be used in the fitting process.\n",
    "# Use the previous plot to inspect a reasonable limit.\n",
    "amplitudeThreshold = 2048"
   ]
  },
  {
   "cell_type": "code",
   "execution_count": null,
   "metadata": {},
   "outputs": [],
   "source": [
    "datasetFinal = pulseAnalysis.filterPulsesByAmplitude(datasetNoSatNoBl, threshold = amplitudeThreshold)\n",
    "print(f\"Final dataset pulse count: {len(datasetFinal)}\")"
   ]
  },
  {
   "cell_type": "markdown",
   "metadata": {},
   "source": [
    "#### Final dataset\n",
    "Notice the difference of the original dataset, compared with the final version of it.\n",
    "The following steps were carried out:\n",
    "- Removed saturated pulses: their contribution to energy estimation is null, so they are removed\n",
    "- Restored baseline: the average signal value before the pulse remains close to 0, so the pulse height can be reliably be determined\n",
    "- Removed low-amplitude pulses: aiming to maximize the amplitude granularity of the pulses that will be further analyzed"
   ]
  },
  {
   "cell_type": "code",
   "execution_count": null,
   "metadata": {},
   "outputs": [],
   "source": [
    "plt.figure(figsize=(12,5))\n",
    "plt.subplot(1, 2, 1)\n",
    "plt.plot(timeAxisMicroseconds, dataset.T.values)\n",
    "plt.title(\"Original recorded dataset\")\n",
    "plt.xlabel(\"Time ($\\mu s$)\")\n",
    "plt.ylabel(\"Amplitude (ADC units)\")\n",
    "plt.ylim((-PLOT_Y_OFFSET, 2**ADC_RESOLUTION + PLOT_Y_OFFSET))\n",
    "\n",
    "plt.subplot(1, 2, 2)\n",
    "plt.plot(timeAxisMicroseconds, datasetFinal.T.values)\n",
    "plt.title(\"Final (clean) dataset\")\n",
    "plt.xlabel(\"Time ($\\mu s$)\")\n",
    "plt.ylabel(\"Amplitude (ADC units)\")\n",
    "plt.hlines(y = amplitudeThreshold, xmin = timeAxisMicroseconds[0], xmax = timeAxisMicroseconds[-1], linestyles='--', colors = 'gray')\n",
    "plt.ylim((-PLOT_Y_OFFSET, 2**ADC_RESOLUTION + PLOT_Y_OFFSET))\n",
    "\n",
    "plt.show()"
   ]
  },
  {
   "cell_type": "markdown",
   "metadata": {},
   "source": [
    "### B.2) Pulse fitting - detector characterization"
   ]
  },
  {
   "cell_type": "markdown",
   "metadata": {},
   "source": [
    "By visually inspecting the last plot (pulses from **final dataset**), define the estimated parameters (initial guess) for the fitting process. Carefully notice the time units in the plot: the parameters must be defined in **seconds**.\n",
    "\n",
    "To define a ```variable``` with the 3.7x10^-9 value in Python, you may use the following format for scientific notation: \n",
    "\n",
    "```python\n",
    "variable = 3.7e-9\n",
    "```"
   ]
  },
  {
   "cell_type": "markdown",
   "metadata": {},
   "source": [
    "> Define the estimated decay and rise time constants of the detector, as well as the time of arrrival of the pulses"
   ]
  },
  {
   "cell_type": "code",
   "execution_count": null,
   "metadata": {},
   "outputs": [],
   "source": [
    "# Set the initial guesses, using second units (not microseconds)\n",
    "\n",
    "estimatedTauD = 5e-6 # Define your own estimation of decay constant using visual inspection\n",
    "estimatedTauR = 1e-6 # Set your estimation for pulse rise time constant using visual inspection\n",
    "estimatedT0 = 5e-6 # Set the estimated time of arrival from the visual inspection of the plot"
   ]
  },
  {
   "cell_type": "markdown",
   "metadata": {},
   "source": [
    "Execute the fitting process next"
   ]
  },
  {
   "cell_type": "code",
   "execution_count": null,
   "metadata": {},
   "outputs": [],
   "source": [
    "fitParameters, fitRelativeErrors = pulseAnalysis.fitPulses(dataset = datasetFinal,\n",
    "                                                   estimatedTauD = estimatedTauD,\n",
    "                                                   estimatedTauR = estimatedTauR,\n",
    "                                                   estimatedT0 = estimatedT0\n",
    "                                                   )\n"
   ]
  },
  {
   "cell_type": "markdown",
   "metadata": {},
   "source": [
    "#### Fitting results"
   ]
  },
  {
   "cell_type": "markdown",
   "metadata": {},
   "source": [
    "These values represent the unique parameters of your detector. **Write them down**, since they will be useful in the next stage of the project."
   ]
  },
  {
   "cell_type": "code",
   "execution_count": null,
   "metadata": {},
   "outputs": [],
   "source": [
    "# Printing out the parameter fitting results\n",
    "fitParameters"
   ]
  },
  {
   "cell_type": "markdown",
   "metadata": {},
   "source": [
    "Relative errors are useful to determine whether the fitting was successful or not. If these values are too high (e.g. larger than **0.05**, or **5%**), you may repeat the fitting process with other initial guesses.\n",
    "\n",
    "In case either `inf` or `-inf` values appear, your initial estimations were too far away for the experimental data used for fitting. Please repeat the fitting process by carefully setting the initial parameters (`estimatedTauD`, `estimatedTauR`, `estimatedT0`)."
   ]
  },
  {
   "cell_type": "code",
   "execution_count": null,
   "metadata": {},
   "outputs": [],
   "source": [
    "# Printing out the parameter fitting relative errors\n",
    "fitRelativeErrors"
   ]
  },
  {
   "cell_type": "markdown",
   "metadata": {},
   "source": [
    "#### Visual inspection of fitting result"
   ]
  },
  {
   "cell_type": "markdown",
   "metadata": {},
   "source": [
    "Plotting the \"ideal\" pulse shape using the fitted parameters, along with an experimental pulse you have just recorded: they should visually match. \n",
    "\n",
    "This is another way to easily get a hint of the fitting results. Notice that experimental data will always contain noise that may be visible."
   ]
  },
  {
   "cell_type": "code",
   "execution_count": null,
   "metadata": {},
   "outputs": [],
   "source": [
    "# Using the 'fitParameters' that contains the fitting results\n",
    "idealPulse = pulseAnalysis.pulseModel(t = timeAxisSeconds,\n",
    "                                      A = 1,\n",
    "                                      tauD = fitParameters['fit_tauDecay'],\n",
    "                                      tauR = fitParameters['fit_tauRise'],\n",
    "                                      t0 = fitParameters['fit_tArrival_t0'])\n",
    "\n",
    "# Normalizing amplitude\n",
    "idealPulse /= np.max(idealPulse)\n"
   ]
  },
  {
   "cell_type": "code",
   "execution_count": null,
   "metadata": {},
   "outputs": [],
   "source": [
    "# Choosing a random pulse from the recorded dataset\n",
    "experimentalPulse = datasetFinal.sample().T.values\n",
    "\n",
    "# Normalizing amplitude\n",
    "experimentalPulse = experimentalPulse/np.max(experimentalPulse)\n"
   ]
  },
  {
   "cell_type": "code",
   "execution_count": null,
   "metadata": {},
   "outputs": [],
   "source": [
    "plt.figure()\n",
    "plt.plot(timeAxisMicroseconds, idealPulse, '-', linewidth = 3)\n",
    "plt.plot(timeAxisMicroseconds, experimentalPulse, '--')\n",
    "plt.title(\"Pulse shape comparison\")\n",
    "plt.xlabel(\"Time ($\\mu s$)\")\n",
    "plt.ylabel(\"Amplitude (ADC units)\")\n",
    "plt.legend([\"Fitted (ideal) pulse\", \"Experimental data\"])\n",
    "\n",
    "plt.show()"
   ]
  }
 ],
 "metadata": {
  "kernelspec": {
   "display_name": "Python 3",
   "language": "python",
   "name": "python3"
  },
  "language_info": {
   "codemirror_mode": {
    "name": "ipython",
    "version": 3
   },
   "file_extension": ".py",
   "mimetype": "text/x-python",
   "name": "python",
   "nbconvert_exporter": "python",
   "pygments_lexer": "ipython3",
   "version": "3.10.12"
  }
 },
 "nbformat": 4,
 "nbformat_minor": 2
}
